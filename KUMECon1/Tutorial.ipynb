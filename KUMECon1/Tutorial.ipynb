{
 "cells": [
  {
   "cell_type": "markdown",
   "id": "7a1f4463",
   "metadata": {},
   "source": [
    "# Tutorial for KUME Con1\n",
    "## KUME Conとは\n",
    "　Kyoto University Medical Engineers Contest（以下KUME Con）は京都大学医学部プログラミング部が主催する、プログラミングコンテストです。<br>\n",
    "「プログラミングを学びたい」 「同級生とプログラミングについて議論したい」、そんな方々に楽しいプログラミングライフをお届けする事が、KUME Conが目標としている事です。<br>\n",
    "第一回目となる今回は、基本的なPythonの文法をお示ししつつ、課題に取り組んでいこうと思っています。"
   ]
  },
  {
   "cell_type": "markdown",
   "id": "e31a3e15",
   "metadata": {},
   "source": [
    "## Question\n",
    "**Story**<br>\n",
    "あなたはガン患者の遺伝子を調べる事になった。正常細胞から遺伝子配列Aを、ガン細胞から遺伝子配列Bが手に入った。<br>\n",
    "<br>\n",
    "**Questions**<br>\n",
    "1. AとBで異なっている塩基（点変異）はどこだろうか？\n",
    "2. 遺伝子の点突然変異には「ミスセンス変異」「ナンセンス変異」「サイレント変異」がある。それぞれの意味を説明してみよう。\n",
    "3. 1.で見つけた変異は、どの種類の変異と言えるだろうか？\n",
    "4. 遺伝子配列Cには点変異の他に挿入・欠失、トリプレットの反復回数の差、重複などが入っている。どのような変異が入っているか解析してみよう。"
   ]
  },
  {
   "cell_type": "markdown",
   "id": "1531ea94",
   "metadata": {},
   "source": [
    "## Pythonの基本文法\n",
    "### 「型」とは\n",
    "　コンピュータ上では整数(integer)も少数(float)も文字列(string)も全て0と1で表される信号で保存されています。しかしながら、プログラム上ではそれらはまるで全く異なる物として振舞います。<br>\n",
    " \n",
    "　何故それが可能かと言うと、コンピュータ上にはデータを保存するときに「データそのもの」の他に「データの種類」が保存されているからです。<br>\n",
    " \n",
    "　例えば、65という整数はコンピュータ上で「01000001」と二進数で保存されています。ここで\"A\"という文字もコンピュータ上では「01000001」と保存されています。両方、全く同じですよね。このままでは「あれ、ここに保存している01000001は数字だっけ、文字だっけ？」となってしまいます。<br>\n",
    " \n",
    "　そこで、コンピュータ上では「これは文字か数字か」と言うような情報も一緒に保存しているのです。イメージ的には「0000 01000001」なら数字の65、「0001 01000001」なら\"A\"という文字を表すというような感じです。(実際はもっと複雑です)<br>\n",
    "\n",
    "　このように、データそのものと一緒に保存されている「データの種類を表す物」を「**型**」と言います。<br>\n",
    " \n",
    " ### 「型」の種類\n",
    "　Pythonでは主要な型は以下の7つです。\n",
    "1. 整数(int)\n",
    "2. 少数(float)\n",
    "3. 文字列(str)\n",
    "4. 真偽(bool)\n",
    "5. リスト(list)\n",
    "6. 連想配列(dictionary)\n",
    "7. その他(classなど)\n",
    "\n",
    "　1,2,3については、書いてあるままです。整数、少数、文字列の三つはPythonに限らず多くのプログラミング言語で「基本の型」と扱われます。<br>\n",
    "　整数はintegerの頭文字**int**と表します。少数はプログラミング用語で**浮**動小数点と言うので**float**と表します。文字列は糸の様に繋がっていることからstringと呼ばれ、その頭文字**str**で表します。これら三つの名称は覚えておきましょう。<br>\n",
    "\n",
    "　4の真偽というのは「TrueまたはFalseで表される値」です。例えば「AとBが等しいか否か」というような情報を保存するのに使います。<br>\n",
    "\n",
    " 　5,6,7についてはまた別の機会に話します。<br>\n",
    "<br>\n",
    "\n",
    "　ちなみに、C言語には文字列という型は存在しません。characterという一文字だけを保存できる型が存在し、それを連結する事で文字列を表します。正直、すっごく難しいです。慣れたらこっちの方がしっくりくるんですけどね。"
   ]
  },
  {
   "cell_type": "markdown",
   "id": "6b69a441",
   "metadata": {},
   "source": [
    "### 四則演算\n",
    "Pythonでは多数の演算子が使えます。その中でも特に重要な物を紹介します。\n",
    "\n",
    "|演算子|意味|\n",
    "|-|-|\n",
    "|+|足し算・連結|\n",
    "|-|引き算|\n",
    "|*|掛け算|\n",
    "|/|割り算|\n",
    "|**|○○乗|\n",
    "|//|商|\n",
    "|%|余り|\n",
    "|=|代入(x=10は「x=10とする」という一時代入の意味になる)|\n",
    "|==|等しいかどうか判定|\n",
    "|!=|異なるかどうか判定|\n",
    "|<, >, <=, >=|それぞれ未満、より大きい、以下、以上かどうかを判定|\n",
    "|and|両辺の真偽値が共にTrueかどうかを判定する|\n",
    "|or|両辺の真偽値の内、少なくとも一方がTrueかどうかを判定する|\n"
   ]
  },
  {
   "cell_type": "markdown",
   "id": "7e98a378",
   "metadata": {},
   "source": [
    "### print関数\n",
    "　関数とは「一連の動作」を意味します。数学でも「f(x)=5x+3」なら関数fは「受け取った数字を五倍して3を足すという一連の動作」ですよね。<br>\n",
    "　Pythonの関数も似たような感じです。その中の一つ、`print`関数を紹介します。<br>\n",
    "<br>\n",
    "　`print`関数は「受け取った物を表示する」という動作を行います。例えばprint(5)なら5と表示します。以下のプログラムを下の入力欄に書いてみましょう。(コピペはダメですよ！)\n",
    "\n",
    "```python\n",
    "print(1)\n",
    "print(10)\n",
    "print(\"Hello\")\n",
    "```"
   ]
  },
  {
   "cell_type": "code",
   "execution_count": null,
   "id": "18e4b588",
   "metadata": {},
   "outputs": [],
   "source": []
  },
  {
   "cell_type": "markdown",
   "id": "bdb6ab2a",
   "metadata": {},
   "source": [
    "　1、10、Helloが表示されたら成功です。<br>\n",
    "　では次に以下のプログラムを入力してみましょう。\n",
    "```python\n",
    "print(7+3)\n",
    "print(7-3)\n",
    "print(7*3)\n",
    "print(7/3)\n",
    "print(7%3)\n",
    "print(7//3)\n",
    "print(7**3)\n",
    "```"
   ]
  },
  {
   "cell_type": "code",
   "execution_count": null,
   "id": "2eb3f0ec",
   "metadata": {},
   "outputs": [],
   "source": []
  },
  {
   "cell_type": "markdown",
   "id": "28b06c83",
   "metadata": {},
   "source": [
    "　以下のように表示されたら成功です。\n",
    "```\n",
    "10\n",
    "4\n",
    "21\n",
    "2.3333333333333335\n",
    "2\n",
    "1\n",
    "343\n",
    "```\n",
    "<br>\n",
    "\n",
    "　次は比較も行ってみましょう。\n",
    "```python\n",
    "print(7==3)\n",
    "print(3==3)\n",
    "print(7!=3)\n",
    "print(3!=3)\n",
    "\n",
    "print(7>3)\n",
    "print(3>3)\n",
    "print(7>=3)\n",
    "print(3>=3)\n",
    "\n",
    "print(7<3)\n",
    "print(3<3)\n",
    "print(7<=3)\n",
    "print(3<=3)\n",
    "```"
   ]
  },
  {
   "cell_type": "code",
   "execution_count": null,
   "id": "bceb4b8a",
   "metadata": {},
   "outputs": [],
   "source": []
  },
  {
   "cell_type": "markdown",
   "id": "f48cced0",
   "metadata": {},
   "source": [
    "　以下の様に表示されるはずです。\n",
    "```\n",
    "False\n",
    "True\n",
    "True\n",
    "False\n",
    "True\n",
    "False\n",
    "True\n",
    "True\n",
    "False\n",
    "False\n",
    "False\n",
    "True\n",
    "```\n",
    "<br>\n",
    "\n",
    "　もう一歩、次はandとorを使ってみて、基本事項の確認を終えようと思います。\n",
    "```python\n",
    "print(3<7 and 7<10)\n",
    "print(3<7 and 7<5)\n",
    "print(3<0 and 7<5)\n",
    "\n",
    "print(3<7 or 7<10)\n",
    "print(3<7 or 7<5)\n",
    "print(3<0 or 7<5)\n",
    "```"
   ]
  },
  {
   "cell_type": "code",
   "execution_count": null,
   "id": "750fd36d",
   "metadata": {},
   "outputs": [],
   "source": []
  },
  {
   "cell_type": "markdown",
   "id": "8914acdd",
   "metadata": {},
   "source": [
    "　以下の様に表示されるはずです。\n",
    "```\n",
    "True\n",
    "False\n",
    "False\n",
    "True\n",
    "True\n",
    "False\n",
    "```\n",
    "\n",
    "　一行目`3<7 and 7<10`は`3<7`も`7<10`もTrueなのでTrueと表示されています。一方で、二行目`3<7 and 7<5`は`7<5`がFalseなのでFalseと表示されています。`and`は「両方がTrueの時だけTrue」なのです。<br>\n",
    "　ここで、五行目`3<7 or 7<5`は`7<5`がFalseですがTrueと表示されていますね。`or`は「どちらか一方でもTrueならTrue」なのです。<br>\n",
    "<br>\n",
    "\n",
    "\n",
    "## お疲れさまでした！　これで基本事項の確認は終わりです\n",
    "## 以降、今回の問題を一緒に解いていきましょう。\n",
    "\n",
    "※ここからが本番です。"
   ]
  },
  {
   "cell_type": "markdown",
   "id": "f4de33d8",
   "metadata": {},
   "source": [
    "<br><br><br>"
   ]
  },
  {
   "cell_type": "markdown",
   "id": "4eb4a75f",
   "metadata": {},
   "source": [
    "## 問題を解く前に\n",
    "　まずはデータセットの準備をしましょう。データセットは　https://github.com/TBjustice/KUME-Con/tree/main/KUMECon1　に置いています。<br>\n",
    " \n",
    "　SequenceA.txt、SequenceB.txt、SequenceC.txtを保存してください。<br>\n",
    "<br>\n",
    "\n",
    "　え、面倒くさい？　……確かに。では以下のコードを実行してください。自動でダウンロードしてくれるはずです。（※これに関してはコピペして頂いてOKです）"
   ]
  },
  {
   "cell_type": "code",
   "execution_count": null,
   "id": "25ea8a0a",
   "metadata": {},
   "outputs": [],
   "source": [
    "!pip install requests\n",
    "import requests\n",
    "def save(name):\n",
    "    r = requests.get(\"https://raw.githubusercontent.com/TBjustice/KUME-Con/main/KUMECon1/Sequence\"+name+\".txt\")\n",
    "    with open(\"Sequence\"+name+\".txt\", mode=\"w\") as f:\n",
    "        f.write(r.text)\n",
    "save(\"A\")\n",
    "save(\"B\")\n",
    "save(\"C\")"
   ]
  },
  {
   "cell_type": "markdown",
   "id": "c75d79fe",
   "metadata": {},
   "source": [
    "　データセットがダウンロードされたら最高です。環境によっては上手く動かないかもしれませんが……その時はお手数おかけしますが、手動でダウンロードして下さい。<br>\n",
    "\n",
    "## 準備が整いました！　いよいよ、本格的なプログラミングが始まります！\n",
    "### ファイルの読み込み\n",
    "　ダウンロードしてきたファイルを読み込みたいとき使う構文は以下の様になっています。\n",
    "```python\n",
    "with open(filename) as f:\n",
    "    f.read()\n",
    "```\n",
    "\n",
    "　今回は、「SequenceA.txtの中身の文字列」をsequenceAという名前で入手しようと思います。つまり、以下のように書きます。\n",
    "```python\n",
    "with open(\"SequenceA.txt\") as f:\n",
    "    sequenceA = f.read()\n",
    "```\n",
    "\n",
    "　上でも書きましたが、`sequenceA = f.read()`は「sequenceAとf.read()が等しい」と言う意味では**なく**、「sequenceAにf.read()を代入する」という意味になります。"
   ]
  },
  {
   "cell_type": "code",
   "execution_count": null,
   "id": "9f1188fb",
   "metadata": {},
   "outputs": [],
   "source": []
  },
  {
   "cell_type": "markdown",
   "id": "5ba560ac",
   "metadata": {},
   "source": [
    "　エラーが出なかったら成功です。<br>\n",
    "<br>\n",
    "\n",
    "　次に、`sequenceA`にきちんと代入されているか確認してみましょう。\n",
    "```python\n",
    "print(sequenceA)\n",
    "```\n",
    "と書いて、sequenceAの中身を表示してみましょう。"
   ]
  },
  {
   "cell_type": "code",
   "execution_count": null,
   "id": "ae993754",
   "metadata": {},
   "outputs": [],
   "source": []
  },
  {
   "cell_type": "markdown",
   "id": "e767b374",
   "metadata": {},
   "source": [
    "```\n",
    "ACGTATGAUGCAUG　中略　GGACTGACCTGA\n",
    "```\n",
    "　と表示されるはずです。<br>\n",
    "<br>\n",
    "<br>\n",
    "　Aと同様にBも保存してみましょう。\n",
    "```python\n",
    "with open(\"SequenceB.txt\") as f:\n",
    "    sequenceB = f.read()\n",
    "print(sequenceB)\n",
    "```"
   ]
  },
  {
   "cell_type": "code",
   "execution_count": null,
   "id": "1d090521",
   "metadata": {},
   "outputs": [],
   "source": []
  },
  {
   "cell_type": "markdown",
   "id": "77608d2e",
   "metadata": {},
   "source": [
    "```\n",
    "ACGTATGAUGCAUG　中略　TGTTGGACTGACCTGA\n",
    "```\n",
    "　と表示されるはずです。<br>\n",
    "<br>\n",
    "<br>\n",
    "### len関数\n",
    "　さて、この二つの遺伝子配列を比べていきたいのですが、その前に二つの文字列の長さを調べてみましょう。<br>\n",
    "　文字列の長さを取得する関数に`len`関数があります。これは文字列を受け取ると、その長さを整数で返してくれる関数です。<br>\n",
    "\n",
    "例)\n",
    "```python\n",
    "len(\"Hello\")\n",
    "```\n",
    "→5<br>\n",
    "```python\n",
    "len(\"ATGCATCGCGTAGCA\")\n",
    "```\n",
    "→15<br>\n",
    "<br>\n",
    "　今回はsequenceAとsequenceBの長さを調べたいので、以下のように書きます。なお、`print(len(sequenceA))`とprint関数内にlen関数が入っていますが、これは数学の合成関数のように動きます。つまり`len(sequenceA)`の結果が`print`されます。\n",
    "```python\n",
    "print(len(sequenceA))\n",
    "print(len(sequenceB))\n",
    "```"
   ]
  },
  {
   "cell_type": "code",
   "execution_count": null,
   "id": "664558fb",
   "metadata": {},
   "outputs": [],
   "source": []
  },
  {
   "cell_type": "markdown",
   "id": "fa9c31c3",
   "metadata": {},
   "source": [
    "　1946と表示されたら成功です。<br>\n",
    "<br>\n",
    "\n",
    "### if文\n",
    "　いよいよ、この二つの文字列を比較します。比較に置いて使われる「構文」に「if文」と呼ばれるものがあります。\n",
    "```python\n",
    "if 式:\n",
    "    動作1\n",
    "else:\n",
    "    動作2\n",
    "```\n",
    "　これは「式がTrueなら動作1が、式がFalseなら動作2が動く」プログラムです。<br>\n",
    "　具体的な例として、以下を動かしてみてください。\n",
    "```python\n",
    "if 10 % 2 == 0:\n",
    "    print(\"10 is even\")\n",
    "else:\n",
    "    print(\"10 is odd\")\n",
    "```"
   ]
  },
  {
   "cell_type": "code",
   "execution_count": null,
   "id": "62be4d92",
   "metadata": {},
   "outputs": [],
   "source": []
  },
  {
   "cell_type": "markdown",
   "id": "c2173ebb",
   "metadata": {},
   "source": [
    "　`10 % 2 == 0`というのは「10を2で割った余り(10 % 2)　が0と等しいか否かを比較(== 0)する」と言う意味です。当然10を2で割った余りは0ですので、`10 is even`と表示されるはずです。<br>\n",
    "<br>\n",
    "　次に以下のプログラムを動かしてみましょう。\n",
    "```python\n",
    "if 11 % 2 == 0:\n",
    "    print(\"11 is even\")\n",
    "else:\n",
    "    print(\"11 is odd\")\n",
    "```"
   ]
  },
  {
   "cell_type": "code",
   "execution_count": null,
   "id": "0d400630",
   "metadata": {},
   "outputs": [],
   "source": []
  },
  {
   "cell_type": "markdown",
   "id": "e9a7fd38",
   "metadata": {},
   "source": [
    "　今度は`11 is odd`と表示されるはずです。<br>\n",
    "<br>\n",
    "　このif文を使って、sequenceAとsequenceBの一文字目が等しいかどうかを判定してみましょう。<br>\n",
    "<br>\n",
    "　sequenceAの一文字目を入手するには`sequenceA[0]`と書きます。二文字目なら`sequenceA[1]`です。この`[整数]`をプログラミング用語で**インデックス**と呼び、「文字列の○文字目を取り出す」「データセットの○番目だけ取り出す」というような動作が行われます。<br>\n",
    "　ここで注意したいのが、インデックスは**0からはじまる**という事です。N文字目を取り出したければ`sequenceA[N-1]`と書く必要があります。<br>\n",
    "<br>\n",
    "　つまり、「sequenceAとsequenceBの一文字目が等しいかどうかを判定」したければ以下のように書きます。\n",
    "```python\n",
    "if sequenceA[0] == sequenceB[0]:\n",
    "    print(\"Same\")\n",
    "else:\n",
    "    print(\"Different\")\n",
    "```"
   ]
  },
  {
   "cell_type": "code",
   "execution_count": null,
   "id": "5cfb6a1c",
   "metadata": {},
   "outputs": [],
   "source": []
  },
  {
   "cell_type": "markdown",
   "id": "9e2e1335",
   "metadata": {},
   "source": [
    "　Sameと表示されるはずです。実際、どちらもAですので、この評価は正しいです。<br>\n",
    "　という訳で、sequenceAとBを比較するコードが完成しました。あとは、この`[0]`を`[1945]`まで変化させればOKです。<br>\n",
    "<br>\n",
    "**「いや、0から1945まで手作業で書くのは、面倒だよ……！」**<br>\n",
    "<br>\n",
    "　まあ、そりゃあそうですよね。そこで、for文を使おうと思います！\n",
    "\n",
    "### for文\n",
    "　for文は何かを繰り返す制御です。と言ってもピンとこないと思うので、現実世界に当てはめてみましょう。そうですね、例えば「わんこそば」で例えてみましょうか。<br>\n",
    "　わんこそばでは、めんつゆの入ったカップをお客が持ち、そこに次々とそばが投入されます。食べ終わったら次のそばが投入され、食べ終わったら次のそばが投入され……と繰り返されます。<br>\n",
    "　これをPythonで書くと次のようになります。なお、`eat`関数は「カップの中身を食べる動作」を意味します。\n",
    "```python\n",
    "for めんつゆのはいったカップ in [そば0, そば1, そば2, そば3, そば4, そば6]:\n",
    "    eat(めんつゆのはいったカップ)\n",
    "```\n",
    "　なんとなくfor文のイメージが湧きましたかね？<br>\n",
    "<br>\n",
    "<br>\n",
    "　この`for`文を今回の解析にも用いてみましょう。「めんつゆの入ったカップ」の代わりに`index`、「[そば0, そば1, そば2, そば3, そば4, そば6]」の代わりに`range(1946)`と書きます。なお、`range(N)`は`[0, 1, 2, 3,......, N-1]`と言う意味になります。<br>\n",
    " \n",
    "　「eat(めんつゆのはいったカップ)」の代わりに「等しく**ない**かどうかチェックして、等しくないなら`index`を表示する」というプログラムを書きます。<br>\n",
    " \n",
    "　それが以下のコードです。\n",
    "```python\n",
    "for index in range(1946):\n",
    "    if(sequenceA[index] != sequenceB[index]):\n",
    "        print(index)\n",
    "```"
   ]
  },
  {
   "cell_type": "code",
   "execution_count": null,
   "id": "3f680a64",
   "metadata": {
    "scrolled": true
   },
   "outputs": [],
   "source": []
  },
  {
   "cell_type": "markdown",
   "id": "3facb08f",
   "metadata": {},
   "source": [
    "```\n",
    "169\n",
    "612\n",
    "727\n",
    "1638\n",
    "1729\n",
    "```\n",
    "　という5つの数字が表示されたら成功です。ここで、表示されている数字はインデックスであり、「何番目か」という問いに答えるには1加えなければいけないことに注意しましょう。（N番目＝sequenceA[N-1]だから、sequenceA[index]＝index+1番目である）\n",
    "### Question1の解答\n",
    "**170、613、728、1639、1730番目の塩基が異なっている。**\n"
   ]
  },
  {
   "cell_type": "markdown",
   "id": "933441d1",
   "metadata": {},
   "source": [
    "<br><br><br><br><br>"
   ]
  },
  {
   "cell_type": "markdown",
   "id": "cc218f7b",
   "metadata": {},
   "source": [
    "### 文字列のスライス\n",
    "　170番目が異なると分かりましたが、この変化は「ミスセンス変異」「ナンセンス変異」「サイレント変異」のどれにあたるでしょうか？<br>\n",
    "　それを検討する為に、170番目の前後だけを切り出して見てみようと思います。<br>\n",
    " \n",
    "　文字列の一部を切り出す方法として「文字列のスライス」という方法があり、それは次のように行います。\n",
    "```python\n",
    "文字列[N-1:M]\n",
    "```\n",
    "→文字列のN文字目からM文字目を取得する<br>\n",
    "\n",
    "例）\n",
    "```python\n",
    "print(\"hello\"[1:4])\n",
    "```\n",
    "→ell　と表示される（2文字目～4文字目）<br>\n",
    "<br>\n",
    "<br>\n",
    "　今回のケースでは、170文字目の前後を取得したいので、このようなコードとなります。\n",
    "```python\n",
    "print(sequenceA[167:172])\n",
    "print(sequenceB[167:172])\n",
    "```"
   ]
  },
  {
   "cell_type": "code",
   "execution_count": null,
   "id": "3857bfe7",
   "metadata": {},
   "outputs": [],
   "source": []
  },
  {
   "cell_type": "markdown",
   "id": "36070ce8",
   "metadata": {},
   "source": [
    "```\n",
    "TGCCT\n",
    "TGACT\n",
    "```\n",
    "と表示されたら成功です。<br>\n",
    "<br>\n",
    "　この遺伝子の読み枠が`...[TGC][CT?]...`なのか、`...[??T][GCC][T??]...`なのか、それとも`...[?TG][CCT]...`にもよりますが、もし`...[TGC][CT?]...`だったらなら、`[TGC]`(システイン)が`[TGA]`(終始コドン)になっているので、これはナンセンス変異という事になりますね。<br>\n",
    "<br>\n",
    "<br>\n",
    "同様の事を、他の変異箇所にも行ってみましょう。"
   ]
  },
  {
   "cell_type": "code",
   "execution_count": null,
   "id": "0e95f607",
   "metadata": {},
   "outputs": [],
   "source": []
  },
  {
   "cell_type": "code",
   "execution_count": null,
   "id": "f8bf2b79",
   "metadata": {},
   "outputs": [],
   "source": []
  },
  {
   "cell_type": "code",
   "execution_count": null,
   "id": "729a00dc",
   "metadata": {},
   "outputs": [],
   "source": []
  },
  {
   "cell_type": "code",
   "execution_count": null,
   "id": "c08d3a15",
   "metadata": {},
   "outputs": [],
   "source": []
  },
  {
   "cell_type": "markdown",
   "id": "66561ab3",
   "metadata": {},
   "source": [
    "### 発展　正しい読み枠を推測する\n",
    "　正しい読み枠を推測するには、「ATG(メチオニン・開始コドン)～終始コドン」のセットを探す必要があります。\n",
    "　例えば「ATG......終始コドン」の長さが短すぎるなら、それは正しい読み枠とは言えないでしょう。一方、それが長いなら、正しい詠み枠の可能性があります。\n",
    "　読み枠単位でfor文を回したいなら、次の様に書くことができます。\n",
    "```python\n",
    "for i in range((1946-2)//3):\n",
    "    if sequenceA[i*3:i*3+3]==\"ATG\":\n",
    "        print(i*3)\n",
    "        #これは[0,1,2][3,4,5]...という読み枠\n",
    "\n",
    "    if sequenceA[i*3+1:i*3+4]==\"ATG\":\n",
    "        print(i*3+1)\n",
    "        #これは[1,2,3][4,5,6]...という読み枠\n",
    "\n",
    "    if sequenceA[i*3+2:i*3+5]==\"ATG\":\n",
    "        print(i*3+2)\n",
    "        #これは[2,3,4][5,6,7]...という読み枠\n",
    "```"
   ]
  },
  {
   "cell_type": "code",
   "execution_count": null,
   "id": "85fefb3b",
   "metadata": {},
   "outputs": [],
   "source": []
  },
  {
   "cell_type": "markdown",
   "id": "622da234",
   "metadata": {},
   "source": [
    "今回のケースでは、開始コドンとなり得る箇所が幾つかあるようですね。<br>\n",
    "\n",
    "終始コドンについても同様に調べてみましょう。なお、終始コドンは三種類あるので`sequenceA[i*3+2:i*3+5]==\"TAA\" or sequenceA[i*3+2:i*3+5]==\"TAG\" or sequenceA[i*3+2:i*3+5]==\"TGA\"`と書く必要があります。"
   ]
  },
  {
   "cell_type": "code",
   "execution_count": null,
   "id": "8d2fb9a9",
   "metadata": {},
   "outputs": [],
   "source": []
  },
  {
   "cell_type": "markdown",
   "id": "da53e25b",
   "metadata": {},
   "source": [
    "この情報を基に、先ほど求めた変異箇所がどのタイプの変異だったか考察してみましょう。"
   ]
  },
  {
   "cell_type": "code",
   "execution_count": null,
   "id": "1b8ed82f",
   "metadata": {},
   "outputs": [],
   "source": []
  },
  {
   "cell_type": "markdown",
   "id": "9059bd2f",
   "metadata": {},
   "source": [
    "# 発展　点変異以外にも挿入やデリーションがあるデータ\n",
    "```python\n",
    "with open(\"SequenceC.txt\") as f:\n",
    "    sequenceC = f.read()\n",
    "print(len(sequenceC))\n",
    "```"
   ]
  },
  {
   "cell_type": "code",
   "execution_count": null,
   "id": "7c5b9bc6",
   "metadata": {},
   "outputs": [],
   "source": []
  },
  {
   "cell_type": "markdown",
   "id": "4b3714a0",
   "metadata": {},
   "source": [
    "sequenceCも長さは同じみたいですね。では……<br>\n",
    "```python\n",
    "for i in range(1946):\n",
    "    if(sequenceA[i] != sequenceC[i]):\n",
    "        print(i)\n",
    "```"
   ]
  },
  {
   "cell_type": "code",
   "execution_count": null,
   "id": "93759cb8",
   "metadata": {},
   "outputs": [],
   "source": []
  },
  {
   "cell_type": "markdown",
   "id": "03aed0b9",
   "metadata": {},
   "source": [
    "　無数の変異箇所が見つかりました……。これはいったいどういう事でしょうか？<br>\n",
    "\n",
    "　そのヒントを探るべく、以下のコードを動かしてみましょう。\n",
    "```python\n",
    "print(sequenceA[15:30])\n",
    "print(sequenceC[15:30])\n",
    "```"
   ]
  },
  {
   "cell_type": "code",
   "execution_count": null,
   "id": "c36fd979",
   "metadata": {
    "scrolled": true
   },
   "outputs": [],
   "source": []
  },
  {
   "cell_type": "markdown",
   "id": "2c0938c7",
   "metadata": {},
   "source": [
    "```\n",
    "TGCCCTTCTCTCAAC\n",
    "TGCCATTTCTCTCAA\n",
    "```\n",
    "　五文字目のCがAに変わっているうえに、Aという塩基が挿入されています！　このように挿入が起きると、それ以降がすべて「異なる」と見なされてしまいます。<br>\n",
    "　それは不本意ですよね。どうにかして挿入や欠損に強いアルゴリズムを開発する必要があります。<br>\n",
    "<br>\n",
    "<br>\n",
    "　その方法とは……！\n",
    "<br>\n",
    "<br>\n",
    "<br>\n",
    "<br>\n",
    "<br>\n",
    "<br>\n",
    "<br>\n",
    "<br>\n",
    "<br>\n",
    "<br>\n",
    "<br>\n",
    "<br>\n",
    "<br>\n",
    "<br>\n",
    "<br>\n",
    "<br>\n",
    "<br>\n",
    "<br>\n",
    "<br>\n",
    "<br>\n",
    "<br>\n",
    "<br>\n",
    "<br>\n",
    "<br>\n",
    "<br>\n",
    "<br>\n",
    "# まだ僕も思いついていません！\n",
    "　プログラミングに自信がある方はもちろん、まだ初心者の方も、「どうすればいいだろう？」と頭を悩ませてみてください。<br>\n",
    "　可能であれば、各々が考えるアルゴリズムをどこかで発表する機会を設けたいのですが……それは要相談という事で。\n"
   ]
  },
  {
   "cell_type": "code",
   "execution_count": null,
   "id": "015c4048",
   "metadata": {},
   "outputs": [],
   "source": []
  }
 ],
 "metadata": {
  "kernelspec": {
   "display_name": "Python 3 (ipykernel)",
   "language": "python",
   "name": "python3"
  },
  "language_info": {
   "codemirror_mode": {
    "name": "ipython",
    "version": 3
   },
   "file_extension": ".py",
   "mimetype": "text/x-python",
   "name": "python",
   "nbconvert_exporter": "python",
   "pygments_lexer": "ipython3",
   "version": "3.7.9"
  }
 },
 "nbformat": 4,
 "nbformat_minor": 5
}
